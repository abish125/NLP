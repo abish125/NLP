{
 "metadata": {
  "name": ""
 },
 "nbformat": 3,
 "nbformat_minor": 0,
 "worksheets": [
  {
   "cells": [
    {
     "cell_type": "code",
     "collapsed": false,
     "input": [
      "#working on capital letters\n",
      "import re\n",
      "\n",
      "text = \"This text has Upper and Lower Case Letters\"\n",
      "all_uppers = re.findall(\"[A-Z]\", text[:10])\n",
      "# make elements unique and sorted\n",
      "all_uppers = sorted(list(set(all_uppers)))\n",
      "print all_uppers  # ['C', 'L', 'T', 'U']"
     ],
     "language": "python",
     "metadata": {},
     "outputs": [
      {
       "output_type": "stream",
       "stream": "stdout",
       "text": [
        "['T']\n"
       ]
      }
     ],
     "prompt_number": 2
    },
    {
     "cell_type": "code",
     "collapsed": false,
     "input": [
      "#compare sets of text\n",
      "from nltk import *\n",
      "text = \"This text has Upper and Lower Case Letters\"\n",
      "t1 = sorted(text.split(\" \"))\n",
      "fdist1 = FreqDist(text.split(\" \"))\n",
      "t2 = fdist1.keys()\n",
      "print fdist1['Cases']\n",
      "t1.remove(t1[0])\n",
      "print t1\n",
      "print t2\n",
      "\n",
      "#v1 is missing \"Case\"\n",
      "#so what is of interest is the set of text that has something that the other one does not---v2---\n",
      "#so if v2 contains an item from v1 then remove it\n",
      "print len(t1)>len(t2)\n",
      "print reduce(lambda v1,v2: v1 or v2, map(lambda v: v in t1, t2))\n",
      "v= set(t1).intersection(t2)\n",
      "\n",
      "for s in v:\n",
      "    t2.remove(s)\n",
      "    \n",
      "print t2 #t2 has the unique words within t2"
     ],
     "language": "python",
     "metadata": {},
     "outputs": [
      {
       "output_type": "stream",
       "stream": "stdout",
       "text": [
        "0\n",
        "['Letters', 'Lower', 'This', 'Upper', 'and', 'has', 'text']\n",
        "['Case', 'Letters', 'Lower', 'This', 'Upper', 'and', 'has', 'text']\n",
        "False\n",
        "True\n",
        "['Case']\n"
       ]
      }
     ],
     "prompt_number": 25
    },
    {
     "cell_type": "code",
     "collapsed": false,
     "input": [
      "'''\n",
      "how to do the whole thing...\n",
      "take all the words and put them together \n",
      "take all the words from a specific diagnosis and subtract those words from the main set\n",
      "then find the intersection between the specific diagnosis group of words and all the words minus\n",
      "the diagnosis part. and look at the remaining words. \n",
      "\n",
      "'''"
     ],
     "language": "python",
     "metadata": {},
     "outputs": [
      {
       "output_type": "stream",
       "stream": "stdout",
       "text": [
        "hello\n"
       ]
      }
     ],
     "prompt_number": 22
    },
    {
     "cell_type": "code",
     "collapsed": false,
     "input": [
      "#Output to csv\n",
      "import csv\n",
      "with open('eggs.csv', 'wb') as csvfile:\n",
      "    spamwriter = csv.writer(csvfile, delimiter=',', quoting=csv.QUOTE_MINIMAL)\n",
      "    spamwriter.writerow(['Spam'] * 5 + ['Baked Beans'])\n",
      "    spamwriter.writerow(['Spam', 'Lovely Spam', 'Wonderful Spam'])"
     ],
     "language": "python",
     "metadata": {},
     "outputs": [],
     "prompt_number": 29
    },
    {
     "cell_type": "code",
     "collapsed": false,
     "input": [],
     "language": "python",
     "metadata": {},
     "outputs": []
    }
   ],
   "metadata": {}
  }
 ]
}